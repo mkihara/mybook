{
 "cells": [
  {
   "cell_type": "markdown",
   "metadata": {},
   "source": [
    "# JAX でポアソン方程式を解く\n",
    "\n",
    "[JAX](https://github.com/google/jax)で、以下のポアソン方程式を周期境界条件で解きます。\n",
    "\n",
    "$$\n",
    "\\frac{\\partial^2 p}{\\partial x^2} + \\frac{\\partial^2 p}{\\partial y^2} = \\frac{\\partial u}{\\partial x} + \\frac{\\partial v}{\\partial y}\n",
    "$$\n",
    "\n",
    "$$\n",
    "u = \\sin 2 x \\\\\n",
    "v = \\sin 2 y\n",
    "$$\n",
    "\n",
    "コードは以下の通り。"
   ]
  },
  {
   "cell_type": "code",
   "execution_count": null,
   "metadata": {},
   "outputs": [],
   "source": [
    "### CPU で実行する場合は、以下二行をコメントアウトする。\n",
    "# from jax import config\n",
    "# config.update('jax_platform_name', 'cpu')\n",
    "\n",
    "import jax.numpy as jnp\n",
    "from jax.numpy import pi\n",
    "from jax.numpy import gradient\n",
    "from jax.scipy.sparse.linalg import bicgstab, gmres\n",
    "from jax import jit\n",
    "from functools import partial"
   ]
  },
  {
   "cell_type": "code",
   "execution_count": null,
   "metadata": {},
   "outputs": [],
   "source": [
    "class poisson_jax(object):\n",
    "    def __init__(self, nx, ny, lx=2*pi, ly=2*pi):\n",
    "        self.nx = nx\n",
    "        self.ny = ny\n",
    "        self.lx = lx\n",
    "        self.ly = ly\n",
    "        self.dx = self.lx / self.nx\n",
    "        self.dy = self.ly / self.ny\n",
    "\n",
    "    def dfdx(self, f):\n",
    "        f_ = jnp.pad(f, pad_width=1, mode='wrap')\n",
    "        return gradient(f_, self.dx, axis=-1)[1:-1,1:-1]\n",
    "\n",
    "    def dfdy(self, f):\n",
    "        f_ = jnp.pad(f, pad_width=1, mode='wrap')\n",
    "        return gradient(f_, self.dy, axis=-2)[1:-1,1:-1]\n",
    "\n",
    "    def lhs(self, p_flatten):\n",
    "        p = p_flatten.reshape((self.ny, self.nx))\n",
    "        ddp = self.dfdx(self.dfdx(p)) + self.dfdy(self.dfdy(p))\n",
    "        return ddp.flatten()\n",
    "\n",
    "    def rhs(self, u, v):\n",
    "        return (self.dfdx(u) + self.dfdy(v)).flatten()\n",
    "\n",
    "    def solve(self, u, v):\n",
    "        p_flatten, _ = bicgstab(A=self.lhs, b=self.rhs(u, v))\n",
    "        # p_flatten, _ = gmres(A=self.lhs, b=self.rhs(u, v))\n",
    "        return p_flatten.reshape((self.ny, self.nx))\n",
    "\n",
    "    @partial(jit, static_argnums=0)\n",
    "    def solve_jit(self, u, v):\n",
    "        return self.solve(u, v)"
   ]
  },
  {
   "cell_type": "markdown",
   "metadata": {},
   "source": [
    "## 動作確認\n",
    "\n",
    "解いてみると、以下のように圧力の空間分布が得られました。  \n",
    "空間分割数を大きくすると、GMRES法が収束しませんでした。理由はわかっていません。"
   ]
  },
  {
   "cell_type": "code",
   "execution_count": null,
   "metadata": {},
   "outputs": [],
   "source": [
    "nx = ny = 64\n",
    "lx = ly = 2 * pi\n",
    "\n",
    "x = jnp.linspace(0, lx, nx, endpoint=False)\n",
    "y = jnp.linspace(0, ly, ny, endpoint=False)\n",
    "X, Y = jnp.meshgrid(x, y)\n",
    "\n",
    "u = jnp.sin(2*X)\n",
    "v = jnp.sin(2*Y)\n",
    "\n",
    "solver = poisson_jax(nx, ny, lx, ly)\n",
    "p = solver.solve(u, v).block_until_ready()\n",
    "\n",
    "import matplotlib.pyplot as plt\n",
    "from matplotlib import cm\n",
    "\n",
    "fig, ax = plt.subplots(subplot_kw={\"projection\": \"3d\"}, dpi=150)\n",
    "ax.plot_surface(X, Y, p, cmap=cm.coolwarm, linewidth=0, antialiased=False)\n",
    "ax.set_xlabel(\"$x$\")\n",
    "ax.set_ylabel(\"$y$\")\n",
    "ax.set_zlabel(\"$p$\")\n",
    "plt.show()"
   ]
  },
  {
   "cell_type": "markdown",
   "metadata": {},
   "source": [
    "## 計算時間を計測\n",
    "\n",
    "配列の大きさとJITコンパイルの有無を変えて計測します。"
   ]
  },
  {
   "cell_type": "code",
   "execution_count": null,
   "metadata": {},
   "outputs": [],
   "source": [
    "# for n in range(5, 14):\n",
    "#     nx = ny = 2 ** n\n",
    "#     lx = ly = 2 * pi\n",
    "\n",
    "#     x = jnp.linspace(0, lx, nx, endpoint=False)\n",
    "#     y = jnp.linspace(0, ly, ny, endpoint=False)\n",
    "#     X, Y = jnp.meshgrid(x, y)\n",
    "\n",
    "#     u = jnp.sin(2*X)\n",
    "#     v = jnp.sin(2*Y)\n",
    "\n",
    "#     solver = poisson_jax(nx, ny, lx, ly)\n",
    "\n",
    "#     print(f'nx = ny = {nx}')\n",
    "\n",
    "#     print('uncompiled')\n",
    "#     %timeit solver.solve(u, v).block_until_ready()\n",
    "\n",
    "#     print('JIT-compiled')\n",
    "#     %timeit solver.solve_jit(u, v).block_until_ready()"
   ]
  }
 ],
 "metadata": {
  "kernelspec": {
   "display_name": "Python 3.8.10 64-bit",
   "language": "python",
   "name": "python3"
  },
  "language_info": {
   "codemirror_mode": {
    "name": "ipython",
    "version": 3
   },
   "file_extension": ".py",
   "mimetype": "text/x-python",
   "name": "python",
   "nbconvert_exporter": "python",
   "pygments_lexer": "ipython3",
   "version": "3.8.10"
  },
  "orig_nbformat": 4,
  "vscode": {
   "interpreter": {
    "hash": "916dbcbb3f70747c44a77c7bcd40155683ae19c65e1c03b4aa3499c5328201f1"
   }
  }
 },
 "nbformat": 4,
 "nbformat_minor": 2
}
