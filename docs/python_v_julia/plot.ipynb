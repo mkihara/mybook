{
 "cells": [
  {
   "cell_type": "markdown",
   "metadata": {},
   "source": [
    "# Plot"
   ]
  },
  {
   "cell_type": "code",
   "execution_count": null,
   "metadata": {},
   "outputs": [],
   "source": [
    "import numpy as np\n",
    "import pandas as pd\n",
    "import matplotlib.pyplot as plt"
   ]
  },
  {
   "cell_type": "code",
   "execution_count": null,
   "metadata": {},
   "outputs": [],
   "source": [
    "columns = ['nx',\n",
    "           'JAX,CPU,Float32,BICGSTAB',\n",
    "           'JAX,GPU,Float32,BICGSTAB',\n",
    "           'JAX,CPU,Float32,BICGSTAB,JIT',\n",
    "           'JAX,GPU,Float32,BICGSTAB,JIT',\n",
    "           'Julia,CPU,Float64,GMRES',\n",
    "           'Julia,GPU,Float64,GMRES']\n",
    "data = [[32, 704e-3, 450e-3, 20.5e-6, 2.3e-3, 35.501e-6, 3.248e-3],\n",
    "        [64, 756e-3, 456e-3, 94.3e-6, 3.56e-3, 100.001e-6, 3.209e-3],\n",
    "        [128, 802e-3, 458e-3, 558e-6, 5.52e-3, 393.595e-6, 3.181e-3],\n",
    "        [256, 938e-3, 478e-3, 4.75e-3, 16e-3, 1.809e-3, 3.177e-3],\n",
    "        [512, 1.16, 488e-3, 26.7e-3, 28e-3, 8.524e-3, 3.540e-3],\n",
    "        [1024, 1.76, 523e-3, 170e-3, 24.9e-3, 77.046e-3, 3.008e-3],\n",
    "        [2048, 4.16, 530e-3, 3.36, 62.1e-3, 247.770e-3, 5.891e-3],\n",
    "        [4096, np.nan, 836e-3, np.nan, 379e-3, 1.321, 29.583e-3],\n",
    "        [8192, np.nan, 1.9, np.nan, 1.42, 5.203, 286.047e-3]]\n",
    "df = pd.DataFrame(data, columns=columns)\n",
    "\n",
    "markers = [None, 'o', 'o', 's', 's', '^', '^']\n",
    "linestyles = [None, '-', '--', '-', '--', '-', '--']"
   ]
  },
  {
   "cell_type": "code",
   "execution_count": null,
   "metadata": {},
   "outputs": [],
   "source": [
    "plt.figure(dpi=150)\n",
    "for i in range(1,7):\n",
    "    plt.plot(df.iloc[:,0].values**2, df.iloc[:,i].values, markers[i]+linestyles[i], label=df.columns[i])\n",
    "plt.legend()\n",
    "plt.xscale('log')\n",
    "plt.yscale('log')\n",
    "plt.grid(which=\"both\")\n",
    "plt.title(\"Elapsed time to solve Poisson's equation\")\n",
    "plt.xlabel(r'${\\rm Array \\ size}, N_x \\times N_y \\ {\\rm [-]}$')\n",
    "plt.ylabel(r'${\\rm Elapsed \\ time}, t \\ {\\rm [sec]}$')\n",
    "plt.ylim(3e-6, 1e1)\n",
    "plt.savefig('elapsed_time.png')\n",
    "plt.show()"
   ]
  }
 ],
 "metadata": {
  "kernelspec": {
   "display_name": "Python 3.8.10 64-bit",
   "language": "python",
   "name": "python3"
  },
  "language_info": {
   "codemirror_mode": {
    "name": "ipython",
    "version": 3
   },
   "file_extension": ".py",
   "mimetype": "text/x-python",
   "name": "python",
   "nbconvert_exporter": "python",
   "pygments_lexer": "ipython3",
   "version": "3.8.10"
  },
  "orig_nbformat": 4,
  "vscode": {
   "interpreter": {
    "hash": "916dbcbb3f70747c44a77c7bcd40155683ae19c65e1c03b4aa3499c5328201f1"
   }
  }
 },
 "nbformat": 4,
 "nbformat_minor": 2
}
