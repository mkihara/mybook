{
 "cells": [
  {
   "cell_type": "markdown",
   "metadata": {},
   "source": [
    "# Julia でポアソン方程式を解く\n",
    "\n",
    "[Julia](https://julialang.org/)で、以下のポアソン方程式を周期境界条件で解きます。\n",
    "\n",
    "$$\n",
    "\\frac{\\partial^2 p}{\\partial x^2} + \\frac{\\partial^2 p}{\\partial y^2} = \\frac{\\partial u}{\\partial x} + \\frac{\\partial v}{\\partial y}\n",
    "$$\n",
    "\n",
    "$$\n",
    "u = \\sin 2 x \\\\\n",
    "v = \\sin 2 y\n",
    "$$\n",
    "\n",
    "境界値問題を解くライブラリは、以下の3つを検討しました。  \n",
    "最終的に、ドキュメントにGPUに対応しているとの記載があった[Krylov.jl](https://juliasmoothoptimizers.github.io/Krylov.jl/stable/)を選択しました。\n",
    "\n",
    "1. [IterativeSolvers.jl](https://iterativesolvers.julialinearalgebra.org/stable/)\n",
    "2. [Krylov.jl](https://juliasmoothoptimizers.github.io/Krylov.jl/stable/)\n",
    "3. [KrylovKit.jl](https://jutho.github.io/KrylovKit.jl/stable/)"
   ]
  },
  {
   "cell_type": "markdown",
   "metadata": {},
   "source": [
    "ライブラリをインポートします。"
   ]
  },
  {
   "cell_type": "code",
   "execution_count": null,
   "metadata": {},
   "outputs": [],
   "source": [
    "using Krylov, LinearOperators # to solve Ax=b\n",
    "using CUDA # for GPU calculation\n",
    "using BenchmarkTools # to evaluate calculation time\n",
    "using Plots # to visualize"
   ]
  },
  {
   "cell_type": "markdown",
   "metadata": {},
   "source": [
    "方程式を離散化するための2次精度中心差分法の関数を作ります。周期境界条件はここで与えます。"
   ]
  },
  {
   "cell_type": "code",
   "execution_count": null,
   "metadata": {},
   "outputs": [],
   "source": [
    "function divergence(f1, f2, h)\n",
    "    df1 = 0.5 * (circshift(f1, (-1,0)) - circshift(f1, (1,0))) / h[1]\n",
    "    df2 = 0.5 * (circshift(f2, (0,-1)) - circshift(f2, (0,1))) / h[2]\n",
    "    return df1 + df2\n",
    "end\n",
    "\n",
    "function laplacian(f, h)\n",
    "    ddf1 = (circshift(f, (-1,0)) + circshift(f, (1,0)) - 2.0*f) / h[1]^2\n",
    "    ddf2 = (circshift(f, (0,-1)) + circshift(f, (0,1)) - 2.0*f) / h[2]^2\n",
    "    return ddf1 + ddf2\n",
    "end"
   ]
  },
  {
   "cell_type": "markdown",
   "metadata": {},
   "source": [
    "分割数、領域サイズ、速度場$u,v$を設定します。"
   ]
  },
  {
   "cell_type": "code",
   "execution_count": null,
   "metadata": {},
   "outputs": [],
   "source": [
    "nx = ny = 64\n",
    "lx = ly = 2*pi\n",
    "\n",
    "shape = (nx, ny)\n",
    "dx = lx / nx\n",
    "dy = lx / ny\n",
    "h = (dx, dy)\n",
    "x = LinRange(0, lx, nx+1)[1:nx]\n",
    "y = LinRange(0, ly, ny+1)[1:ny]\n",
    "\n",
    "u = zeros(nx, ny)\n",
    "v = zeros(nx, ny)\n",
    "for j=1:ny\n",
    "    for i=1:nx\n",
    "        u[i,j] = sin(2 * x[i])\n",
    "        v[i,j] = sin(2 * y[j])\n",
    "    end\n",
    "end"
   ]
  },
  {
   "cell_type": "markdown",
   "metadata": {},
   "source": [
    "ポアソン方程式を $Ax=b$ の形で表現します。  \n",
    "$A$は$(N_x \\times N_y)^2$の巨大な疎行列になるので、配列ではなくLinearOperatorで与えます。"
   ]
  },
  {
   "cell_type": "code",
   "execution_count": null,
   "metadata": {},
   "outputs": [],
   "source": [
    "function poisson_lhs!(ddp_flatten, p_flatten, shape, h)\n",
    "    p = reshape(p_flatten, shape)\n",
    "    ddp_flatten = vec(laplacian(p, h))\n",
    "end\n",
    "\n",
    "lhs_ = (ddp_flatten, p_flatten) -> poisson_lhs!(ddp_flatten, p_flatten, shape, h)\n",
    "\n",
    "b = vec(divergence(u, v, h));\n",
    "A = LinearOperator(eltype(b), nx*ny, nx*ny, false, false, lhs_)\n",
    "\n",
    "b_gpu = CuVector(b);\n",
    "A_gpu = LinearOperator(eltype(b_gpu), nx*ny, nx*ny, false, false, lhs_)\n",
    "\n",
    "atol = 1e-5\n",
    "rtol = 1e-5"
   ]
  },
  {
   "cell_type": "markdown",
   "metadata": {},
   "source": [
    "## Solve and Visualize\n",
    "\n",
    "GMRES method はうまく解けています。Bi-CGSTAB method がNaNを出力する理由がわかりません。\n",
    "\n",
    "### CPU"
   ]
  },
  {
   "cell_type": "code",
   "execution_count": null,
   "metadata": {},
   "outputs": [],
   "source": [
    "p_flatten, stats = gmres(A, b, atol=atol, rtol=rtol, history=true)\n",
    "# p_flatten, stats = bicgstab(A, b, atol=atol, rtol=rtol, history=true)\n",
    "p = reshape(p_flatten, shape)\n",
    "# print(stats)\n",
    "surface(x, y, p)"
   ]
  },
  {
   "cell_type": "markdown",
   "metadata": {},
   "source": [
    "### GPU"
   ]
  },
  {
   "cell_type": "code",
   "execution_count": null,
   "metadata": {},
   "outputs": [],
   "source": [
    "p_flatten, stats = gmres(A_gpu, b_gpu, atol=atol, rtol=rtol, history=true)\n",
    "# p_flatten, stats = bicgstab(A_gpu, b_gpu, atol=atol, rtol=rtol, history=true)\n",
    "p_gpu = reshape(p_flatten, shape)\n",
    "# print(stats)\n",
    "surface(x, y, Array(p_gpu))"
   ]
  },
  {
   "cell_type": "markdown",
   "metadata": {},
   "source": [
    "## ベンチマーク"
   ]
  },
  {
   "cell_type": "code",
   "execution_count": null,
   "metadata": {},
   "outputs": [],
   "source": [
    "### CPU\n",
    "# @benchmark gmres(A, b, atol=atol, rtol=rtol)"
   ]
  },
  {
   "cell_type": "code",
   "execution_count": null,
   "metadata": {},
   "outputs": [],
   "source": [
    "### GPU\n",
    "# @benchmark gmres(A_gpu, b_gpu, atol=atol, rtol=rtol)"
   ]
  }
 ],
 "metadata": {
  "kernelspec": {
   "display_name": "Julia 1.7.3",
   "language": "julia",
   "name": "julia-1.7"
  },
  "language_info": {
   "file_extension": ".jl",
   "mimetype": "application/julia",
   "name": "julia",
   "version": "1.7.3"
  },
  "orig_nbformat": 4
 },
 "nbformat": 4,
 "nbformat_minor": 2
}
